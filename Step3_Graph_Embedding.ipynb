{
 "cells": [
  {
   "cell_type": "markdown",
   "metadata": {},
   "source": [
    "# Graph Embedding\n",
    "\n",
    "주요 목적\n",
    " - 1. 노드 간의 관계 유지 : 그래프 구조를 반영하여 유사한 노드들이 벡터 공간에서도 가까운 위치를 갖도록 함.\n",
    " - 2. 이웃 정보의 반영 : 노드가 속한 지역적 구조(이웃 관계)를 벡터 표현에 포함시켜, 그래프의 중요한 패턴을 보존\n",
    " - 3. 전역 구조 표현 : 노드뿐만 아니라 전체 그래프의 패턴을 학습하여, 그래프 수준의 분석이 가능하도록 함."
   ]
  },
  {
   "cell_type": "markdown",
   "metadata": {},
   "source": [
    "### 여기에 Graph Embedding 내용 + DeepWalk, Node2Vec 내용 추가하기"
   ]
  },
  {
   "cell_type": "markdown",
   "metadata": {},
   "source": [
    "### Graph Embedding practice"
   ]
  },
  {
   "cell_type": "code",
   "execution_count": 1,
   "metadata": {},
   "outputs": [],
   "source": [
    "import networkx as nx\n",
    "import numpy as np\n",
    "import random\n",
    "import matplotlib.pyplot as plt\n",
    "import seaborn as sns\n",
    "\n",
    "import warnings\n",
    "warnings.filterwarnings(\"ignore\")\n",
    "\n",
    "from gensim.models import Word2Vec\n",
    "from sklearn.manifold import TSNE"
   ]
  },
  {
   "cell_type": "code",
   "execution_count": 4,
   "metadata": {},
   "outputs": [
    {
     "name": "stdout",
     "output_type": "stream",
     "text": [
      "Number of nodes: 34\n",
      "Number of edges: 78\n"
     ]
    }
   ],
   "source": [
    "# Create Sample Graph\n",
    "\n",
    "def create_sample_graph():\n",
    "    G = nx.karate_club_graph()\n",
    "    return G\n",
    "\n",
    "# Correctness 확인\n",
    "G = create_sample_graph()\n",
    "print(f\"Number of nodes: {G.number_of_nodes()}\")\n",
    "print(f\"Number of edges: {G.number_of_edges()}\")\n",
    "assert G.number_of_nodes() == 34, \"Karate club graph should have 34 nodes\"\n",
    "# assert는 조건이 참인지 확인하는 구문, assert 조건식, \"에러 메시지\"\n",
    "# if 조건식이 False 이면, 에러 메시지가 출력됨"
   ]
  },
  {
   "cell_type": "code",
   "execution_count": 6,
   "metadata": {},
   "outputs": [
    {
     "name": "stdout",
     "output_type": "stream",
     "text": [
      "Sample random walk: ['0', '5', '6', '0', '7', '0']\n"
     ]
    }
   ],
   "source": [
    "# DeepWalk Implementation\n",
    "\n",
    "def random_walk(G, start_node, length):\n",
    "    walk = [start_node]\n",
    "    for _ in range(length):\n",
    "        curr = walk[-1]\n",
    "        neighbors = list(G.neighbors(curr))\n",
    "        if neighbors:\n",
    "            walk.append(random.choice(neighbors))\n",
    "    return [str(node) for node in walk]\n",
    "\n",
    "def deep_walk(G, walk_length, num_walks, dimensions):\n",
    "    walks = []\n",
    "    nodes = list(G.nodes())\n",
    "    \n",
    "    for _ in range(num_walks):\n",
    "        random.shuffle(nodes)\n",
    "        for node in nodes:\n",
    "            walk = random_walk(G, node, walk_length)\n",
    "            walks.append(walk)\n",
    "            \n",
    "        model = Word2Vec(walks, vector_size=dimensions, window=5, min_count=0, sg=1, workers=4)\n",
    "        return model\n",
    "    \n",
    "# Correctness 확인\n",
    "test_walk = random_walk(G, 0, 5)\n",
    "print(f\"Sample random walk: {test_walk}\")"
   ]
  },
  {
   "cell_type": "code",
   "execution_count": null,
   "metadata": {},
   "outputs": [
    {
     "name": "stdout",
     "output_type": "stream",
     "text": [
      "Sample biased random walk: ['0', '7', '1', '30', '1', '7']\n"
     ]
    }
   ],
   "source": [
    "# Node2Vec implementation\n",
    "\n",
    "def biased_random_walk(G, start_node, length, p, q):\n",
    "    walk = [start_node]\n",
    "    for _ in range(length):\n",
    "        curr = walk[-1]\n",
    "        prev = walk[-2] if len(walk) > 1 else None\n",
    "        neighbors = list(G.neighbors(curr))\n",
    "        if not neighbors:\n",
    "            break\n",
    "        \n",
    "        if prev is None:\n",
    "            walk.append(random.choice(neighbors))\n",
    "        else:\n",
    "            next_node = sample_next_node(G, curr, prev, neighbors, p, q)\n",
    "            walk.append(next_node)\n",
    "    return [str(node) for node in walk]\n",
    "\n",
    "def sample_next_node(G, curr, prev, neighbors, p, q):\n",
    "    return random.choice(neighbors)\n",
    "\n",
    "def node2vec(G, walk_length, num_walks, dimensions, p, q):\n",
    "    walks = []\n",
    "    nodes = list(G.nodes())\n",
    "    \n",
    "    for _ in range(num_walks):\n",
    "        random.shuffle(nodes)\n",
    "        for node in nodes:\n",
    "            walk = biased_random_walk(G, node, walk_length, p, q)\n",
    "            walks.append(walk)\n",
    "            \n",
    "    model = Word2Vec(walks, vector_size=dimensions, window=5, min_count=0, sg=1, workers=4)\n",
    "    return model\n",
    "\n",
    "# Correctness 확인\n",
    "test_biased_walk = biased_random_walk(G, 0, 5, 1, 1)\n",
    "print(f\"Sample biased random walk: {test_biased_walk}\")"
   ]
  },
  {
   "cell_type": "code",
   "execution_count": null,
   "metadata": {},
   "outputs": [],
   "source": []
  }
 ],
 "metadata": {
  "kernelspec": {
   "display_name": "gnn",
   "language": "python",
   "name": "python3"
  },
  "language_info": {
   "codemirror_mode": {
    "name": "ipython",
    "version": 3
   },
   "file_extension": ".py",
   "mimetype": "text/x-python",
   "name": "python",
   "nbconvert_exporter": "python",
   "pygments_lexer": "ipython3",
   "version": "3.13.5"
  }
 },
 "nbformat": 4,
 "nbformat_minor": 2
}
