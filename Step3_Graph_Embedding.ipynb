{
 "cells": [
  {
   "cell_type": "markdown",
   "metadata": {},
   "source": [
    "# Graph Embedding\n",
    "\n",
    "주요 목적\n",
    " - 1. 노드 간의 관계 유지 : 그래프 구조를 반영하여 유사한 노드들이 벡터 공간에서도 가까운 위치를 갖도록 함.\n",
    " - 2. 이웃 정보의 반영 : 노드가 속한 지역적 구조(이웃 관계)를 벡터 표현에 포함시켜, 그래프의 중요한 패턴을 보존\n",
    " - 3. 전역 구조 표현 : 노드뿐만 아니라 전체 그래프의 패턴을 학습하여, 그래프 수준의 분석이 가능하도록 함."
   ]
  },
  {
   "cell_type": "code",
   "execution_count": null,
   "metadata": {},
   "outputs": [],
   "source": []
  }
 ],
 "metadata": {
  "kernelspec": {
   "display_name": "GNN",
   "language": "python",
   "name": "python3"
  },
  "language_info": {
   "name": "python",
   "version": "3.13.5"
  }
 },
 "nbformat": 4,
 "nbformat_minor": 2
}
